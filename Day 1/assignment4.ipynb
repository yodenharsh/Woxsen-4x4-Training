{
 "cells": [
  {
   "cell_type": "markdown",
   "metadata": {},
   "source": [
    "# Day 1 Assignment 4\n",
    "\n",
    "### Harsh Morayya - 21WU0101056"
   ]
  },
  {
   "cell_type": "markdown",
   "metadata": {},
   "source": [
    "Q1. What exactly is []?  \n",
    "**Ans.** An empty list"
   ]
  },
  {
   "cell_type": "markdown",
   "metadata": {},
   "source": [
    "Q2. In a list of values stored in a variable called spam, how would you assign the value 'hello' as the third value? (Assume [2, 4, 6, 8, 10] are in spam.)  \n",
    "**Ans.** `spam[2]` = \"hello\""
   ]
  },
  {
   "cell_type": "markdown",
   "metadata": {},
   "source": [
    "Let's pretend the spam includes the list ['a', 'b', 'c', 'd'] for the next three queries.  \n",
    "Q3. What is the value of spam[int(int('3' * 2) / 11)]?  \n",
    "**Ans.** Equivalent to `spam[3]` which is 'd'  \n",
    "Q4. What is the value of spam[-1]?  \n",
    "**Ans.** 'd'  \n",
    "Q5. What is the value of spam[:2]?  \n",
    "**Ans.** `['a','b']`  "
   ]
  },
  {
   "cell_type": "markdown",
   "metadata": {},
   "source": [
    "Let's pretend bacon has the list [3.14, 'cat,' 11, 'cat,' True] for the next three questions.  \n",
    "Q6. What is the value of bacon.index('cat')?  \n",
    "**Ans.** 1  \n",
    "Q7. How does bacon.append(99) change the look of the list value in bacon?  \n",
    "**Ans.** Adds an element to the end of the list. Finally, bacon will look like `[3.14, 'cat,' 11, 'cat,' True, 99]`  \n",
    "Q8. How does bacon.remove('cat') change the look of the list in bacon?  \n",
    "**Ans.** Removes the first instance of 'cat'. `[3.14, 11, 'cat,' True]`"
   ]
  },
  {
   "cell_type": "markdown",
   "metadata": {},
   "source": [
    "Q9. What are the list concatenation and list replication operators?  \n",
    "**Ans.** For list concatenation: `+`. For list replication: `*`."
   ]
  },
  {
   "cell_type": "markdown",
   "metadata": {},
   "source": [
    "Q10. What is difference between the list methods append() and insert()?  \n",
    "**Ans.** `append()` adds the provided element to the end of the list. `insert()` also takes in a position argument to insert given element wherever we want in the list"
   ]
  },
  {
   "cell_type": "markdown",
   "metadata": {},
   "source": [
    "Q11. What are the two methods for removing items from a list?  \n",
    "**Ans.**\n",
    "- Using `pop()` and optionally specifiying index position\n",
    "- Using `remove()` and providing value of element to remove"
   ]
  },
  {
   "cell_type": "markdown",
   "metadata": {},
   "source": [
    "Q12. Describe how list values and string values are identical.  \n",
    "**Ans.** Lists and strings are both, sequences of elements."
   ]
  },
  {
   "cell_type": "markdown",
   "metadata": {},
   "source": [
    "Q13. What's the difference between tuples and lists?  \n",
    "**Ans.** Tuples are immutable while lists are mutable"
   ]
  },
  {
   "cell_type": "markdown",
   "metadata": {},
   "source": [
    "Q14. How do you type a tuple value that only contains the integer 42?  \n",
    "**Ans.** `val = (42,)`"
   ]
  },
  {
   "cell_type": "markdown",
   "metadata": {},
   "source": [
    "Q15. How do you get a list value's tuple form? How do you get a tuple value's list form?  \n",
    "**Ans.**\n",
    "- For tuple to list: `list((23,64,12,5))`\n",
    "- For list to tuple: `tuple([23,'gfd',23])`"
   ]
  },
  {
   "cell_type": "markdown",
   "metadata": {},
   "source": [
    "Q16. Variables that \"contain\" list values are not necessarily lists themselves. Instead, what do they contain?  \n",
    "**Ans.** They contain references to list values"
   ]
  },
  {
   "cell_type": "markdown",
   "metadata": {},
   "source": [
    "Q17. How do you distinguish between copy.copy() and copy.deepcopy()?  \n",
    "**Ans.** The copy.copy() function will do a shallow copy of a list.  \n",
    "The copy.deepcopy() function will do a deep copy of a list. only copy.deepcopy() will duplicate any lists inside the list"
   ]
  }
 ],
 "metadata": {
  "language_info": {
   "name": "python"
  }
 },
 "nbformat": 4,
 "nbformat_minor": 2
}
