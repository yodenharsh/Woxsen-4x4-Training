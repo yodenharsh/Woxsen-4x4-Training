{
 "cells": [
  {
   "cell_type": "markdown",
   "metadata": {},
   "source": [
    "# Assignment 3\n",
    "\n",
    "### Harsh Morayya - 21WU0101056"
   ]
  },
  {
   "cell_type": "markdown",
   "metadata": {},
   "source": [
    "Q1. Why are functions advantageous to have in your programs?  \n",
    "**Ans.**: The allow you to reuse blocks of code with your own parameters (if needed)"
   ]
  },
  {
   "cell_type": "markdown",
   "metadata": {},
   "source": [
    "Q2. When does the code in a function run: when it's specified or when it's called?  \n",
    "**Ans.** When it's called"
   ]
  },
  {
   "cell_type": "markdown",
   "metadata": {},
   "source": [
    "Q3. What statement creates a function?  \n",
    "**Ans.** `def <name_of_function>(<parameters (if any)>):`"
   ]
  },
  {
   "cell_type": "markdown",
   "metadata": {},
   "source": [
    "Q4. What is the difference between a function and a function call?  \n",
    "**Ans.** A function is a reusable block of code that can have dynamic arguments. A function call is the when said function is called with provided parameters."
   ]
  },
  {
   "cell_type": "markdown",
   "metadata": {},
   "source": [
    "Q5. How many global scopes are there in a Python program? How many local scopes?  \n",
    "**Ans.** There are no \"global scopes\" or \"local scopes\" in python with an emphasis at the 's' which makes it plural. There is only a global scope and local scope.  \n",
    "- Global scope: Visible to all functions, classes, etc defined in the same file. \n",
    "- Local scope: Only visible to the function itself. Destroyed after function has done execution."
   ]
  },
  {
   "cell_type": "markdown",
   "metadata": {},
   "source": [
    "Q6. What happens to variables in a local scope when the function call returns?  \n",
    "**Ans.** It is destroyed and that memory is freed"
   ]
  },
  {
   "cell_type": "markdown",
   "metadata": {},
   "source": [
    "Q7. What is the concept of a return value? Is it possible to have a return value in an expression?  \n",
    "**Ans.** A return value is value returned by the function when that function has completed execution. A return value can be used in an expression as long as it is a valid data type for the operand in question."
   ]
  },
  {
   "cell_type": "markdown",
   "metadata": {},
   "source": [
    "Q8.  If a function does not have a return statement, what is the return value of a call to that function?  \n",
    "**Ans.** `None`"
   ]
  },
  {
   "cell_type": "markdown",
   "metadata": {},
   "source": [
    "Q9. How do you make a function variable refer to the global variable?  \n",
    "**Ans.** In the function itself, use this statement: `global <name_of_global_var_to_refer_to>`"
   ]
  },
  {
   "cell_type": "markdown",
   "metadata": {},
   "source": [
    "Q10. What is the data type of None?  \n",
    "**Ans.** `None` belongs to a class called `NoneType`"
   ]
  },
  {
   "cell_type": "markdown",
   "metadata": {},
   "source": [
    "Q11. What does the sentence import areallyourpetsnamederic do?  \n",
    "**Ans.** It imports a module/package called \"areallyourpetsnamederic\""
   ]
  },
  {
   "cell_type": "markdown",
   "metadata": {},
   "source": [
    "Q12. If you had a bacon() feature in a spam module, what would you call it after importing spam?  \n",
    "**Ans.** `spam.bacon()` can be used to use the bacon() feature"
   ]
  },
  {
   "cell_type": "markdown",
   "metadata": {},
   "source": [
    "Q13. What can you do to save a programme from crashing if it encounters an error?  \n",
    "**Ans.** We can use error handling to gracefully handle such errors. This generally means the usage of keywords like `try`, `except`, `finally`, etc."
   ]
  },
  {
   "cell_type": "markdown",
   "metadata": {},
   "source": [
    "Q14. What is the purpose of the try clause? What is the purpose of the except clause?  \n",
    "**Ans.** try blocks are generally used in tandem with except blocks. If an error occurs during the execution of the code placed inside a try block, the code placed inside an attached except block (provided that except clause is specified to handle that type of error)."
   ]
  }
 ],
 "metadata": {
  "language_info": {
   "name": "python"
  }
 },
 "nbformat": 4,
 "nbformat_minor": 2
}
