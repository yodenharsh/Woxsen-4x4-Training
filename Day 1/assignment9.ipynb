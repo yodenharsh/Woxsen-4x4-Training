{
 "cells": [
  {
   "cell_type": "markdown",
   "metadata": {},
   "source": [
    "# Day 1 Assignment 9\n",
    "\n",
    "### Harsh Morayya - 21WU0101056"
   ]
  },
  {
   "cell_type": "markdown",
   "metadata": {},
   "source": [
    "1. What is a lambda function in Python, and how does it differ from a regular function?  \n",
    "**Ans.** A lambda function is an anonymous function that is defined \"on the go\". They are different from regular functions as you cannot attach function description and comments to lambdas"
   ]
  },
  {
   "cell_type": "markdown",
   "metadata": {},
   "source": [
    "2. Can a lambda function in Python have multiple arguments? If yes, how can you define and use\n",
    "them?  \n",
    "**Ans.** Yes, they can have multiple arguments. They can defined using a ',' while defining the arguments for the lambda. To use them, simply seperate the arguments using ',' inside the brackets when calling the lambda."
   ]
  },
  {
   "cell_type": "markdown",
   "metadata": {},
   "source": [
    "3. How are lambda functions typically used in Python? Provide an example use case  \n",
    "**Ans.** Lambda functions are typically used for small, simple operations, or one-off tasks, where defining a full function would be unnecessary or cumbersome. Example of a lambda being used in a filter function:"
   ]
  },
  {
   "cell_type": "code",
   "execution_count": 1,
   "metadata": {},
   "outputs": [
    {
     "data": {
      "text/plain": [
       "<filter at 0x76cceff90bd0>"
      ]
     },
     "execution_count": 1,
     "metadata": {},
     "output_type": "execute_result"
    }
   ],
   "source": [
    "sequences = [1,2,7,9,12]\n",
    "filter(lambda x: x > 6, sequences) "
   ]
  },
  {
   "cell_type": "markdown",
   "metadata": {},
   "source": [
    "4. What are the advantages and limitations of lambda functions compared to regular functions in\n",
    "Python  \n",
    "**Ans**. Limitations:\n",
    "- Can only have a single expression within them.\n",
    "- Don't have a name and can't have a docstring.\n",
    "- Have a very different syntax from the usual def syntax.\n",
    "\n",
    "Advantages:\n",
    "- Can be immediately passed around (no variable needed)\n",
    "- Return their sole expression automatically."
   ]
  },
  {
   "cell_type": "markdown",
   "metadata": {},
   "source": [
    "5. Are lambda functions in Python able to access variables defined outside of their own scope?\n",
    "Explain with an example.  \n",
    "**Ans.** Lambas can catch a global value in a \"hacky\" way by assigning one of it's arguments the value of the variable. Example: `lambda x, i=i: x%i==0` where `i` is a global variable"
   ]
  },
  {
   "cell_type": "markdown",
   "metadata": {},
   "source": [
    "6. Write a lambda function to calculate the square of a given number.  \n",
    "**Ans.** `lambda x: x**2` "
   ]
  },
  {
   "cell_type": "markdown",
   "metadata": {},
   "source": [
    "7. Create a lambda function to find the maximum value in a list of integers.  \n",
    "**Ans.** `lambda x: max(x)`"
   ]
  },
  {
   "cell_type": "markdown",
   "metadata": {},
   "source": [
    "8. Implement a lambda function to filter out all the even numbers from a list of integers.  \n",
    "**Ans.** `lambda x: filter(lamda a: not a%2 == 0, x)`"
   ]
  },
  {
   "cell_type": "markdown",
   "metadata": {},
   "source": [
    "9. Write a lambda function to sort a list of strings in ascending order based on the length of each\n",
    "string.  \n",
    "**Ans.** `lambda seq: sorted(seq, key=lambda s: len(s))`"
   ]
  },
  {
   "cell_type": "markdown",
   "metadata": {},
   "source": [
    "10. Create a lambda function that takes two lists as input and returns a new list containing the\n",
    "common elements between the two lists  \n",
    "**Ans.** `lambda list1, list2: list(filter(lambda x: x in list2, list1))`"
   ]
  },
  {
   "cell_type": "markdown",
   "metadata": {},
   "source": [
    "11. Write a recursive function to calculate the factorial of a given positive integer"
   ]
  },
  {
   "cell_type": "code",
   "execution_count": 2,
   "metadata": {},
   "outputs": [],
   "source": [
    "def factorial(n):\n",
    "    if n == 0 or n == 1:\n",
    "        return 1\n",
    "    else:\n",
    "        return n * factorial(n - 1)"
   ]
  },
  {
   "cell_type": "markdown",
   "metadata": {},
   "source": [
    "12. Implement a recursive function to compute the nth Fibonacci number."
   ]
  },
  {
   "cell_type": "code",
   "execution_count": 3,
   "metadata": {},
   "outputs": [],
   "source": [
    "def fibonacci(n):\n",
    "    if n <= 1:\n",
    "        return n\n",
    "    else:\n",
    "        return fibonacci(n - 1) + fibonacci(n - 2)\n"
   ]
  },
  {
   "cell_type": "markdown",
   "metadata": {},
   "source": [
    "13. Create a recursive function to find the sum of all the elements in a given list."
   ]
  },
  {
   "cell_type": "code",
   "execution_count": 4,
   "metadata": {},
   "outputs": [],
   "source": [
    "def sum_of_elements(lst):\n",
    "    if not lst:\n",
    "        return 0\n",
    "    else:\n",
    "        return lst[0] + sum_of_elements(lst[1:])\n"
   ]
  },
  {
   "cell_type": "markdown",
   "metadata": {},
   "source": [
    "14. Write a recursive function to determine whether a given string is a palindrome."
   ]
  },
  {
   "cell_type": "code",
   "execution_count": 5,
   "metadata": {},
   "outputs": [],
   "source": [
    "def is_palindrome(s):\n",
    "    if len(s) <= 1:\n",
    "        return True\n",
    "\n",
    "    else:\n",
    "        return s[0] == s[-1] and is_palindrome(s[1:-1])"
   ]
  },
  {
   "cell_type": "markdown",
   "metadata": {},
   "source": [
    "15. Implement a recursive function to find the greatest common divisor (GCD) of two positive integers."
   ]
  },
  {
   "cell_type": "code",
   "execution_count": 6,
   "metadata": {},
   "outputs": [],
   "source": [
    "def gcd(a, b):\n",
    "    if b == 0:\n",
    "        return a\n",
    "    else:\n",
    "        return gcd(b, a % b)"
   ]
  }
 ],
 "metadata": {
  "kernelspec": {
   "display_name": "computer-vision",
   "language": "python",
   "name": "python3"
  },
  "language_info": {
   "codemirror_mode": {
    "name": "ipython",
    "version": 3
   },
   "file_extension": ".py",
   "mimetype": "text/x-python",
   "name": "python",
   "nbconvert_exporter": "python",
   "pygments_lexer": "ipython3",
   "version": "3.7.12"
  }
 },
 "nbformat": 4,
 "nbformat_minor": 2
}
