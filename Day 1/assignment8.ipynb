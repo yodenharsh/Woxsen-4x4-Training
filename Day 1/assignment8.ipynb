{
 "cells": [
  {
   "cell_type": "markdown",
   "metadata": {},
   "source": [
    "# Day 1 Assignment 8\n",
    "\n",
    "### Harsh Morayya - 21WU0101056"
   ]
  },
  {
   "cell_type": "markdown",
   "metadata": {},
   "source": [
    "1. In Python, what is the difference between a built-in function and a user-defined function? Provide an\n",
    "example of each.  \n",
    "**Ans.** A built-in function is a function that is already included in the python standard library. A user-defined function is, as the name implies, defined by the user and is not a part of the standard libary.Examples of both: "
   ]
  },
  {
   "cell_type": "code",
   "execution_count": 1,
   "metadata": {},
   "outputs": [],
   "source": [
    "# Built-in function\n",
    "\n",
    "len([1,6,991,53])\n",
    "\n",
    "# User-defined function\n",
    "def hi():\n",
    "    print(\"Hi there\")"
   ]
  },
  {
   "cell_type": "markdown",
   "metadata": {},
   "source": [
    "2. How can you pass arguments to a function in Python? Explain the difference between positional\n",
    "arguments and keyword arguments  \n",
    "**Ans.** Arguments can be passed to a function by adding them in the brackets mentioned during the function call. The difference b/w above:\n",
    "- Positional arguments: the parameter the argument is referring is determined by the position of the same\n",
    "- Keyword arguments: the parameter the argument is referring is determined by using this format: `<name_of_parameter> = <value_to_pass>`. The position does not matter here"
   ]
  },
  {
   "cell_type": "markdown",
   "metadata": {},
   "source": [
    "3. What is the purpose of the return statement in a function? Can a function have multiple return\n",
    "statements? Explain with an example  \n",
    "**Ans.** A return statement is used to return a resultant value to the function's caller. A function can strictly have one return statement only.  \n",
    "Example: "
   ]
  },
  {
   "cell_type": "code",
   "execution_count": 2,
   "metadata": {},
   "outputs": [],
   "source": [
    "def sum(a,b):\n",
    "    return a + b"
   ]
  },
  {
   "cell_type": "markdown",
   "metadata": {},
   "source": [
    "4. What are lambda functions in Python? How are they different from regular functions? Provide an\n",
    "example where a lambda function can be useful.  \n",
    "**Ans.** A lambda function is an anonymous function that is defined \"on the go\". They are different from regular functions as they you cannot attach function description and comments to lambdas. Example:"
   ]
  },
  {
   "cell_type": "code",
   "execution_count": 3,
   "metadata": {},
   "outputs": [
    {
     "name": "stdout",
     "output_type": "stream",
     "text": [
      "6\n"
     ]
    }
   ],
   "source": [
    "_max = lambda a, b : a if(a > b) else b\n",
    "print(_max(4,6))"
   ]
  },
  {
   "cell_type": "markdown",
   "metadata": {},
   "source": [
    "5. How does the concept of \"scope\" apply to functions in Python? Explain the difference between local\n",
    "scope and global scope.  \n",
    "**Ans.** Scope can be global or local. variables defined outside a function tend to have a global scope while the ones defined within a function have a local scope. A variable with global scope can be accessed accross the entire file while local variables can be accessed only within that function"
   ]
  },
  {
   "cell_type": "markdown",
   "metadata": {},
   "source": [
    "6. How can you use the \"return\" statement in a Python function to return multiple values?"
   ]
  },
  {
   "cell_type": "code",
   "execution_count": 4,
   "metadata": {},
   "outputs": [],
   "source": [
    "# You can use \",\" to seperate multiple values while returning\n",
    "def i_return_multiple_numbers():\n",
    "    return 5,2,1,62,7"
   ]
  },
  {
   "cell_type": "markdown",
   "metadata": {},
   "source": [
    "7. What is the difference between the \"pass by value\" and \"pass by reference\" concepts when it\n",
    "comes to function arguments in Python.  \n",
    "**Ans.** Passing by value is copying the value of the argument before passing to function. Here, changes to that value inside said function don't reflect on the original value.  \n",
    "Passing by reference is passing the memory location of the argument to the function. Here, changes to that value inside the fucntion do reflect on the original value.  \n",
    "<br>\n",
    "Passing by value is generally seen when passing immutable values (such as strings) and pass by reference is the default behaviour for when passing mutable values (such as objects)"
   ]
  },
  {
   "cell_type": "markdown",
   "metadata": {},
   "source": [
    "8. Create a function that can intake integer or decimal value and do following operations:  \n",
    "a. Logarithmic function (log x)  \n",
    "b. Exponential function (exp(x))  \n",
    "c. Power function with base 2 (2x)  \n",
    "d. Square root  "
   ]
  },
  {
   "cell_type": "code",
   "execution_count": 5,
   "metadata": {},
   "outputs": [],
   "source": [
    "from math import exp, log, sqrt\n",
    "\n",
    "\n",
    "# a\n",
    "def log_func(x):\n",
    "    return log(x)\n",
    "\n",
    "# b\n",
    "def exp_func(x):\n",
    "    return exp(x)\n",
    "\n",
    "# c\n",
    "def power_with_base_2(x):\n",
    "    return x**2\n",
    "\n",
    "# d\n",
    "def sq_root(x):\n",
    "    return sqrt(x) "
   ]
  },
  {
   "cell_type": "markdown",
   "metadata": {},
   "source": [
    "9. Create a function that takes a full name as an argument and returns first name and last name."
   ]
  },
  {
   "cell_type": "code",
   "execution_count": null,
   "metadata": {},
   "outputs": [],
   "source": [
    "def return_seperated(name: str):\n",
    "    splitted_name =  name.split(\" \")\n",
    "    return splitted_name[0], splitted_name[1]"
   ]
  }
 ],
 "metadata": {
  "kernelspec": {
   "display_name": "computer-vision",
   "language": "python",
   "name": "python3"
  },
  "language_info": {
   "codemirror_mode": {
    "name": "ipython",
    "version": 3
   },
   "file_extension": ".py",
   "mimetype": "text/x-python",
   "name": "python",
   "nbconvert_exporter": "python",
   "pygments_lexer": "ipython3",
   "version": "3.7.12"
  }
 },
 "nbformat": 4,
 "nbformat_minor": 2
}
