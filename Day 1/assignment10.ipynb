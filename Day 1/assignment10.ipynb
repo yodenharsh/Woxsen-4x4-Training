{
 "cells": [
  {
   "cell_type": "markdown",
   "metadata": {},
   "source": [
    "# Day 1 Assignment 10\n",
    "\n",
    "### Harsh Morayya - 21WU0101056"
   ]
  },
  {
   "cell_type": "markdown",
   "metadata": {},
   "source": [
    "1. What is the role of try and exception block?  \n",
    "**Ans.** The try block is used to wrap code that may potentially cause an exception. If an exception occurs, the control is transferred to the except block where you can handle the exception gracefully without terminating the program abruptly."
   ]
  },
  {
   "cell_type": "markdown",
   "metadata": {},
   "source": [
    "2. What is the syntax for a basic try-except block?"
   ]
  },
  {
   "cell_type": "code",
   "execution_count": null,
   "metadata": {},
   "outputs": [],
   "source": [
    "try:\n",
    "    # Code that may raise an exception\n",
    "    pass\n",
    "except:\n",
    "    # Code that runs if an exception occurs\n",
    "    pass"
   ]
  },
  {
   "cell_type": "markdown",
   "metadata": {},
   "source": [
    "3. What happens if an exception occurs inside a try block and there is no matching\n",
    "except block?  \n",
    "**Ans.** If an exception occurs inside a try block and there is no matching except block, the program will terminate, and a traceback will be printed, showing the unhandled exception."
   ]
  },
  {
   "cell_type": "markdown",
   "metadata": {},
   "source": [
    "4. What is the difference between using a bare except block and specifying a specific\n",
    "exception type?  \n",
    "**Ans.** \n",
    "- Bare except Block: Catches all exceptions, which can make debugging difficult and may mask other unexpected errors.\n",
    "- Specific Exception Type: Catches only the specified exception, making error handling more precise and safer."
   ]
  },
  {
   "cell_type": "markdown",
   "metadata": {},
   "source": [
    "5. Can you have nested try-except blocks in Python? If yes, then give an example.  \n",
    "**Ans.** Yes, it's possible to have them. Example: "
   ]
  },
  {
   "cell_type": "code",
   "execution_count": null,
   "metadata": {},
   "outputs": [],
   "source": [
    "try:\n",
    "    # Outer try block\n",
    "    try:\n",
    "        pass\n",
    "    except ValueError:\n",
    "        pass\n",
    "except Exception as e:\n",
    "    # Handles other exceptions in outer try block\n",
    "    pass"
   ]
  },
  {
   "cell_type": "markdown",
   "metadata": {},
   "source": [
    "6. Can we use multiple exception blocks, if yes then give an example.  \n",
    "**Ans**. Yes, it's possible. Example:"
   ]
  },
  {
   "cell_type": "code",
   "execution_count": null,
   "metadata": {},
   "outputs": [],
   "source": [
    "try:\n",
    "    # Code that may raise an exception\n",
    "    pass\n",
    "except ValueError:\n",
    "    # Handle ValueError exception\n",
    "    pass\n",
    "except TypeError:\n",
    "    # Handle TypeError exception\n",
    "    pass\n",
    "except Exception as e:\n",
    "    # Handle any other exception\n",
    "    pass"
   ]
  },
  {
   "cell_type": "markdown",
   "metadata": {},
   "source": [
    "7. Write the reason due to which following errors are raised:  \n",
    "a. EOFError  \n",
    "b. FloatingPointError  \n",
    "c. IndexError  \n",
    "d. MemoryError  \n",
    "e. OverflowError  \n",
    "f. TabError  \n",
    "g. ValueError  \n",
    "**Ans**.\n",
    "- EOFError: Raised when the input() function hits an end-of-file condition (EOF) without reading any data.\n",
    "- FloatingPointError: Raised when a floating point operation fails.\n",
    "- IndexError: Raised when trying to access an index that is out of range for a list or other sequence.\n",
    "- MemoryError: Raised when an operation runs out of memory.\n",
    "- OverflowError: Raised when the result of an arithmetic operation is too large to be expressed within the range of the numerical type.\n",
    "- TabError: Raised when there are inconsistent use of tabs and spaces in indentation.\n",
    "- ValueError: Raised when a function receives an argument of the correct type but an inappropriate value."
   ]
  },
  {
   "cell_type": "markdown",
   "metadata": {},
   "source": [
    "8. Write code for the following given scenario and add try-exception block to it.  \n",
    "a. Program to divide two numbers  \n",
    "b. Program to convert a string to an integer  \n",
    "c. Program to access an element in a list  \n",
    "d. Program to handle a specific exception  \n",
    "e. Program to handle any exception  "
   ]
  },
  {
   "cell_type": "code",
   "execution_count": 1,
   "metadata": {},
   "outputs": [],
   "source": [
    "# a\n",
    "\n",
    "def divide_numbers(a, b):\n",
    "    try:\n",
    "        result = a / b\n",
    "        print(f\"The result of division is {result}\")\n",
    "    except ZeroDivisionError:\n",
    "        print(\"Error: Division by zero is not allowed.\")\n",
    "\n",
    "# b\n",
    "\n",
    "def convert_to_int(s):\n",
    "    try:\n",
    "        result = int(s)\n",
    "        print(f\"The integer value is {result}\")\n",
    "    except ValueError:\n",
    "        print(\"Error: The input is not a valid integer.\")\n",
    "\n",
    "\n",
    "# c\n",
    "def access_list_element(lst, index):\n",
    "    try:\n",
    "        element = lst[index]\n",
    "        print(f\"The element at index {index} is {element}\")\n",
    "    except IndexError:\n",
    "        print(\"Error: List index out of range.\")\n",
    "\n",
    "\n",
    "# d \n",
    "def handle_specific_exception():\n",
    "    try:\n",
    "        raise ValueError(\"This is a ValueError example\")\n",
    "    except ValueError as e:\n",
    "        print(f\"Handled specific exception: {e}\")\n",
    "\n",
    "# e\n",
    "def handle_any_exception():\n",
    "    try:\n",
    "        result = 10 / 0\n",
    "    except Exception as e:\n",
    "        print(f\"An error occurred: {e}\")\n",
    "\n",
    "\n"
   ]
  }
 ],
 "metadata": {
  "kernelspec": {
   "display_name": "computer-vision",
   "language": "python",
   "name": "python3"
  },
  "language_info": {
   "codemirror_mode": {
    "name": "ipython",
    "version": 3
   },
   "file_extension": ".py",
   "mimetype": "text/x-python",
   "name": "python",
   "nbconvert_exporter": "python",
   "pygments_lexer": "ipython3",
   "version": "3.7.12"
  }
 },
 "nbformat": 4,
 "nbformat_minor": 2
}
