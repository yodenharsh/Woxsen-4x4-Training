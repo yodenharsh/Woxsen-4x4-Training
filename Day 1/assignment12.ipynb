{
 "cells": [
  {
   "cell_type": "markdown",
   "metadata": {},
   "source": [
    "# Day 1 Assignment 12\n",
    "\n",
    "### Harsh Morayya - 21WU0101056"
   ]
  },
  {
   "cell_type": "markdown",
   "metadata": {},
   "source": [
    "Q.1 What are keywords in python? Using the keyword library, print all the python keywords.\n",
    "\n",
    "**Ans.** Keywords are reserved words in python that provide some in-built functionality."
   ]
  },
  {
   "cell_type": "code",
   "execution_count": 1,
   "metadata": {},
   "outputs": [
    {
     "name": "stdout",
     "output_type": "stream",
     "text": [
      "['False', 'None', 'True', 'and', 'as', 'assert', 'async', 'await', 'break', 'class', 'continue', 'def', 'del', 'elif', 'else', 'except', 'finally', 'for', 'from', 'global', 'if', 'import', 'in', 'is', 'lambda', 'nonlocal', 'not', 'or', 'pass', 'raise', 'return', 'try', 'while', 'with', 'yield']\n"
     ]
    }
   ],
   "source": [
    "import keyword\n",
    "\n",
    "print(keyword.kwlist)"
   ]
  },
  {
   "cell_type": "markdown",
   "metadata": {},
   "source": [
    "Q2. What are the rules to create variables in python?  \n",
    "\n",
    "**Ans.** \n",
    "- Variable names must start with a letter or an underscore (_)\n",
    "- Variable names can only contain alphanumeric characters and underscores:\n",
    "- Variable names are case-sensitive:\n",
    "- Reserved words cannot be used as variable names:"
   ]
  },
  {
   "cell_type": "markdown",
   "metadata": {},
   "source": [
    "Q3. What are the standards and conventions followed for the nomenclature of variables in\n",
    "python to improve code readability and maintainability\n",
    "\n",
    "**Ans.**\n",
    "- Use meaningful names\n",
    "- Use lowercase letters and underscores for variable names (snake_case):\n",
    "- Constants should be in all uppercase letters with underscores:"
   ]
  },
  {
   "cell_type": "markdown",
   "metadata": {},
   "source": [
    "Q4. What will happen if a keyword is used as a variable name?  \n",
    "**Ans.** A syntax error is raised"
   ]
  },
  {
   "cell_type": "markdown",
   "metadata": {},
   "source": [
    "Q5. For what purpose def keyword is used?  \n",
    "**Ans.** To define a new function"
   ]
  },
  {
   "cell_type": "markdown",
   "metadata": {},
   "source": [
    "Q6. What is the operation of this special character ‘\\’?  \n",
    "**Ans.** This character is used to mention an escape sequence in strings "
   ]
  },
  {
   "cell_type": "markdown",
   "metadata": {},
   "source": [
    "Q7. Give an example of the following conditions:  \n",
    "(i) Homogeneous list  \n",
    "(ii) Heterogeneous set  \n",
    "(iii) Homogeneous tuple  \n",
    "\n",
    "**Ans.** \n",
    "1. `[1,2,3,4,5]`\n",
    "2. `{1,\"two\",[42,11]}`\n",
    "3. `{\"hi\",\"bye\",\"no\"}`"
   ]
  },
  {
   "cell_type": "markdown",
   "metadata": {},
   "source": [
    "Q8. Explain the mutable and immutable data types with proper explanation & examples.  \n",
    "**Ans.**\n",
    "#### Mutable data types\n",
    "Mutable data types are those whose values can be changed after they are created. This means you can modify, add, or remove elements without creating a new object. Some examples include\n",
    "- List: `[1,6,2]`\n",
    "- Dictionary: `{\"hi\": \"bye\", \"lie\": \"die\"}`\n",
    "\n",
    "#### Immutable data types\n",
    "Immutable data types are those whose values cannot be changed after they are created. If you need to modify the value, a new object must be created. Examples include\n",
    "- String: `\"hello\"`\n",
    "- Tuple: `(\"do\",1,5)`\n",
    "- Frozen set: `frozenset([4,6,1])`"
   ]
  },
  {
   "cell_type": "markdown",
   "metadata": {},
   "source": [
    "Q9. Write a code to create the given structure using only for loop.  \n",
    "      *  \n",
    "    \\*\\*\\*  \n",
    "   \\*\\*\\*\\*\\*  \n",
    "  \\*\\*\\*\\*\\*\\*\\*  \n",
    "\\*\\*\\*\\*\\*\\*\\*\\*\\*  \n",
    "\n",
    "NOTE: Trailing spaces were removed in above pyramid because markdown tends to remove them"
   ]
  },
  {
   "cell_type": "code",
   "execution_count": null,
   "metadata": {},
   "outputs": [
    {
     "name": "stdout",
     "output_type": "stream",
     "text": [
      "    *\n",
      "   ***\n",
      "  *****\n",
      " *******\n",
      "*********\n"
     ]
    }
   ],
   "source": [
    "def print_pyramid(n):\n",
    "    for i in range(n):\n",
    "        for j in range(n - i - 1):\n",
    "            print(\" \", end=\"\")\n",
    "        for k in range(2 * i + 1):\n",
    "            print(\"*\", end=\"\")\n",
    "        print()\n",
    "\n",
    "print_pyramid(5)\n"
   ]
  },
  {
   "cell_type": "markdown",
   "metadata": {},
   "source": [
    "10. Write a code to create the given structure using while loop.  \n",
    "|||||||||  \n",
    "|||||||  \n",
    "|||||  \n",
    "|||  \n",
    "|  \n",
    "\n",
    "NOTE: Trailing spaces were removed in above pyramid because markdown tends to remove them"
   ]
  },
  {
   "cell_type": "code",
   "execution_count": null,
   "metadata": {},
   "outputs": [
    {
     "name": "stdout",
     "output_type": "stream",
     "text": [
      "|||||||||\n",
      " |||||||\n",
      "  |||||\n",
      "   |||\n",
      "    |\n"
     ]
    }
   ],
   "source": [
    "def print_inverted_pyramid(n):\n",
    "    for i in range(n, 0, -1):\n",
    "        for j in range(n - i):\n",
    "            print(\" \", end=\"\")\n",
    "        for k in range(2 * i - 1):\n",
    "            print(\"|\", end=\"\")\n",
    "        print()\n",
    "\n",
    "# Example usage\n",
    "print_inverted_pyramid(5)\n"
   ]
  }
 ],
 "metadata": {
  "kernelspec": {
   "display_name": "computer-vision",
   "language": "python",
   "name": "python3"
  },
  "language_info": {
   "codemirror_mode": {
    "name": "ipython",
    "version": 3
   },
   "file_extension": ".py",
   "mimetype": "text/x-python",
   "name": "python",
   "nbconvert_exporter": "python",
   "pygments_lexer": "ipython3",
   "version": "3.7.12"
  }
 },
 "nbformat": 4,
 "nbformat_minor": 2
}
