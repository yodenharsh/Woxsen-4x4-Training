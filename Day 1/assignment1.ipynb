{
 "cells": [
  {
   "cell_type": "markdown",
   "metadata": {},
   "source": [
    "# Assignment 1\n",
    "\n",
    "### Harsh Morayya: 21WU0101056"
   ]
  },
  {
   "cell_type": "markdown",
   "metadata": {},
   "source": [
    "Q1: n the below elements which of them are values or an expression? eg:- values can be integer or string and expressions will be mathematical operators.\n",
    "\\*   \n",
    "'hello'  \n",
    "-87.8  \n",
    "\\-  \n",
    "/  \n",
    "\\+  \n",
    "6  \n",
    "\n",
    "Ans.\n",
    "Expressions:\n",
    "- \\*\n",
    "- \\-\n",
    "- \\+\n",
    "- /\n",
    "\n",
    "\n",
    "Values:\n",
    "- 'hello'\n",
    "- -87.8\n",
    "- 6"
   ]
  },
  {
   "cell_type": "markdown",
   "metadata": {},
   "source": [
    "Q2. What is the difference between string and variable?\n",
    "\n",
    "Ans. A string is a data type. A variable refers to a value of a particular data type at a memory location"
   ]
  },
  {
   "cell_type": "markdown",
   "metadata": {},
   "source": [
    "Q3. Describe three different data types.  \n",
    "Ans. \n",
    "- **Strings** - Considered as an abstracted representation of an array of unicode characters. Signified by quotes placed around it. Example: \"Hello\"\n",
    "- **Float** - Numbers in floating point format (having a decimal)\n",
    "- **Boolean** - Values with a binary value (`True` or `False`) "
   ]
  },
  {
   "cell_type": "markdown",
   "metadata": {},
   "source": [
    "Q4. What is an expression made up of? What do all expressions do?  \n",
    "Ans. Expressions are made up of operands and operators. Expressions generally evaluate to a single value"
   ]
  },
  {
   "cell_type": "markdown",
   "metadata": {},
   "source": [
    "Q5. This assignment statements, like spam = 10. What is the difference between an expression and a statement?  \n",
    "Ans. Following is a statement. An expression is a sequence of operators and operands that evaluate to a single value. A statement is generally a command or instruction that would perform a specific task (like assignment in our case)"
   ]
  },
  {
   "cell_type": "markdown",
   "metadata": {},
   "source": [
    "Q6. After running the following code, what does the variable bacon contain?  \n",
    "bacon = 22  \n",
    "bacon + 1 \n",
    "Ans. 22 as no assignment operation is performed "
   ]
  },
  {
   "cell_type": "markdown",
   "metadata": {},
   "source": [
    "Q7. What should the values of the following two terms be?  \n",
    "'spam' + 'spamspam'  \n",
    "'spam' * 3  \n",
    "Ans. \n",
    "1. spamspamspam\n",
    "2. spamspamspam"
   ]
  },
  {
   "cell_type": "markdown",
   "metadata": {},
   "source": [
    "Q8. Why is eggs a valid variable name while 100 is invalid?  \n",
    "Ans. \"eggs\" doesn't break any rules for declaring identifiers in python.  \n",
    "Meanwhile, \"100\" starts with a number which is not allowed in identifier naming"
   ]
  },
  {
   "cell_type": "markdown",
   "metadata": {},
   "source": [
    "Q9. What three functions can be used to get the integer, floating-point number, or string version of a value?  \n",
    "Ans. In respective order:\n",
    "- `int()`\n",
    "- `float()`\n",
    "- `str()`"
   ]
  },
  {
   "cell_type": "markdown",
   "metadata": {},
   "source": [
    "Q10. Why does this expression cause an error? How can you fix it?  \n",
    "'I have eaten ' + 99 + ' burritos.'  \n",
    "Ans. Reason: Adding a string and integer is not supported.  \n",
    "Fix: Convert 99 to string using `str(99)`"
   ]
  }
 ],
 "metadata": {
  "language_info": {
   "name": "python"
  }
 },
 "nbformat": 4,
 "nbformat_minor": 2
}
